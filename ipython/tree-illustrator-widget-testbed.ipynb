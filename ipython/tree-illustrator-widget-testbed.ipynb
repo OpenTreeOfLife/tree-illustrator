{
 "cells": [
  {
   "cell_type": "markdown",
   "metadata": {},
   "source": [
    "### Which JS methods work in a static notebook?"
   ]
  },
  {
   "cell_type": "code",
   "execution_count": 1,
   "metadata": {
    "collapsed": false
   },
   "outputs": [
    {
     "data": {
      "application/javascript": [
       "// Load JS support for Tree Illustrator widgets \n",
       "var cell = this;\n",
       "var ti, ti2;\n",
       "$.getScript(\n",
       "    'https://rawgit.com/OpenTreeOfLife/tree-illustrator/master/stylist/ipynb-tree-illustrator.js',\n",
       "    function() {\n",
       "        // this function will be called once the IPythonTreeIllustrator module has loaded\n",
       "        ti = new IPythonTreeIllustrator.IllustratorWidget(cell);\n",
       "    }\n",
       ");\n",
       "alert('hi from %%javascript magic!');"
      ],
      "text/plain": [
       "<IPython.core.display.Javascript object>"
      ]
     },
     "metadata": {},
     "output_type": "display_data"
    }
   ],
   "source": [
    "%%javascript \n",
    "// Load JS support for Tree Illustrator widgets \n",
    "var cell = this;\n",
    "var ti, ti2;\n",
    "$.getScript(\n",
    "    'https://rawgit.com/OpenTreeOfLife/tree-illustrator/master/stylist/ipynb-tree-illustrator.js',\n",
    "    function() {\n",
    "        // this function will be called once the IPythonTreeIllustrator module has loaded\n",
    "        ti = new IPythonTreeIllustrator.IllustratorWidget(cell);\n",
    "    }\n",
    ");\n",
    "alert('hi from %%javascript magic!');"
   ]
  },
  {
   "cell_type": "code",
   "execution_count": 2,
   "metadata": {
    "collapsed": false
   },
   "outputs": [
    {
     "data": {
      "application/javascript": [
       "/* NOTE that calls related to an IllustratorWidget created in a previous cell \n",
       " * may fail when a notebook is reloaded. This is because we're outside the \n",
       " * safe callback function, and a (re)loading notebook attempts to evaluate \n",
       " * all cells in quick succession. If these calls fail with a JS error message\n",
       " * below, try re-running these cells by pressing Shift-Click.\n",
       " */\n",
       "var ti2 = new IPythonTreeIllustrator.IllustratorWidget(this);  // 'this' is the current cell\n",
       " "
      ],
      "text/plain": [
       "<IPython.core.display.Javascript object>"
      ]
     },
     "metadata": {},
     "output_type": "display_data"
    }
   ],
   "source": [
    "%%javascript\n",
    "/* NOTE that calls related to an IllustratorWidget created in a previous cell \n",
    " * may fail when a notebook is reloaded. This is because we're outside the \n",
    " * safe callback function, and a (re)loading notebook attempts to evaluate \n",
    " * all cells in quick succession. If these calls fail with a JS error message\n",
    " * below, try re-running these cells by pressing Shift-Click.\n",
    " */\n",
    "var ti2 = new IPythonTreeIllustrator.IllustratorWidget(this);  // 'this' is the current cell\n",
    " "
   ]
  },
  {
   "cell_type": "code",
   "execution_count": null,
   "metadata": {
    "collapsed": false
   },
   "outputs": [],
   "source": [
    "%%javascript\n",
    "alert(ti);"
   ]
  },
  {
   "cell_type": "code",
   "execution_count": null,
   "metadata": {
    "collapsed": true
   },
   "outputs": [],
   "source": []
  }
 ],
 "metadata": {
  "kernelspec": {
   "display_name": "Python 2",
   "language": "python",
   "name": "python2"
  },
  "language_info": {
   "codemirror_mode": {
    "name": "ipython",
    "version": 2
   },
   "file_extension": ".py",
   "mimetype": "text/x-python",
   "name": "python",
   "nbconvert_exporter": "python",
   "pygments_lexer": "ipython2",
   "version": "2.7.5"
  }
 },
 "nbformat": 4,
 "nbformat_minor": 0
}
