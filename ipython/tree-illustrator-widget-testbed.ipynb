{
 "cells": [
  {
   "cell_type": "code",
   "execution_count": 13,
   "metadata": {
    "collapsed": false
   },
   "outputs": [
    {
     "data": {
      "application/javascript": [
       "// Load JS support for Tree Illustrator widgets \n",
       "var cell = this;\n",
       "var ti, ti2;\n",
       "$.getScript(\n",
       "    'https://rawgit.com/OpenTreeOfLife/tree-illustrator/master/stylist/ipynb-tree-illustrator.js',\n",
       "    function() {\n",
       "        // this function will be called once the IPythonTreeIllustrator module has loaded\n",
       "        ti = new IPythonTreeIllustrator.IllustratorWidget(cell);\n",
       "    }\n",
       ");"
      ],
      "text/plain": [
       "<IPython.core.display.Javascript object>"
      ]
     },
     "metadata": {},
     "output_type": "display_data"
    }
   ],
   "source": [
    "%%javascript \n",
    "// Load JS support for Tree Illustrator widgets \n",
    "var cell = this;\n",
    "var ti, ti2;\n",
    "$.getScript(\n",
    "    'https://rawgit.com/OpenTreeOfLife/tree-illustrator/master/stylist/ipynb-tree-illustrator.js',\n",
    "    function() {\n",
    "        // this function will be called once the IPythonTreeIllustrator module has loaded\n",
    "        ti = new IPythonTreeIllustrator.IllustratorWidget(cell);\n",
    "    }\n",
    ");"
   ]
  },
  {
   "cell_type": "code",
   "execution_count": 5,
   "metadata": {
    "collapsed": false
   },
   "outputs": [
    {
     "data": {
      "application/javascript": [
       "/* NOTE that calls related to an IllustratorWidget created in a previous cell \n",
       " * may fail when a notebook is reloaded. This is because we're outside the \n",
       " * safe callback function, and a (re)loading notebook attempts to evaluate \n",
       " * all cells in quick succession. If these calls fail with a JS error message\n",
       " * below, try re-running these cells by pressing Shift-Click.\n",
       " */\n",
       "var ti2 = new IPythonTreeIllustrator.IllustratorWidget(this);  // 'this' is the current cell\n",
       " "
      ],
      "text/plain": [
       "<IPython.core.display.Javascript object>"
      ]
     },
     "metadata": {},
     "output_type": "display_data"
    }
   ],
   "source": [
    "%%javascript\n",
    "/* NOTE that calls related to an IllustratorWidget created in a previous cell \n",
    " * may fail when a notebook is reloaded. This is because we're outside the \n",
    " * safe callback function, and a (re)loading notebook attempts to evaluate \n",
    " * all cells in quick succession. If these calls fail with a JS error message\n",
    " * below, try re-running these cells by pressing Shift-Click.\n",
    " */\n",
    "var ti2 = new IPythonTreeIllustrator.IllustratorWidget(this);  // 'this' is the current cell\n",
    " "
   ]
  },
  {
   "cell_type": "code",
   "execution_count": 7,
   "metadata": {
    "collapsed": false
   },
   "outputs": [
    {
     "ename": "NameError",
     "evalue": "name 'ti2' is not defined",
     "output_type": "error",
     "traceback": [
      "\u001b[0;31m---------------------------------------------------------------------------\u001b[0m",
      "\u001b[0;31mNameError\u001b[0m                                 Traceback (most recent call last)",
      "\u001b[0;32m<ipython-input-7-68e64efa3a17>\u001b[0m in \u001b[0;36m<module>\u001b[0;34m()\u001b[0m\n\u001b[0;32m----> 1\u001b[0;31m \u001b[0mti2\u001b[0m\u001b[0;34m\u001b[0m\u001b[0m\n\u001b[0m",
      "\u001b[0;31mNameError\u001b[0m: name 'ti2' is not defined"
     ]
    }
   ],
   "source": [
    "ti2"
   ]
  },
  {
   "cell_type": "code",
   "execution_count": 8,
   "metadata": {
    "collapsed": false
   },
   "outputs": [
    {
     "data": {
      "application/javascript": [
       "ti"
      ],
      "text/plain": [
       "<IPython.core.display.Javascript object>"
      ]
     },
     "metadata": {},
     "output_type": "display_data"
    }
   ],
   "source": [
    "%%javascript\n",
    "ti"
   ]
  },
  {
   "cell_type": "code",
   "execution_count": 10,
   "metadata": {
    "collapsed": false
   },
   "outputs": [
    {
     "ename": "NameError",
     "evalue": "name 'cell' is not defined",
     "output_type": "error",
     "traceback": [
      "\u001b[0;31m---------------------------------------------------------------------------\u001b[0m",
      "\u001b[0;31mNameError\u001b[0m                                 Traceback (most recent call last)",
      "\u001b[0;32m<ipython-input-10-8fdfa46d45b8>\u001b[0m in \u001b[0;36m<module>\u001b[0;34m()\u001b[0m\n\u001b[0;32m----> 1\u001b[0;31m \u001b[0mcell\u001b[0m\u001b[0;34m\u001b[0m\u001b[0m\n\u001b[0m",
      "\u001b[0;31mNameError\u001b[0m: name 'cell' is not defined"
     ]
    }
   ],
   "source": [
    "cell"
   ]
  },
  {
   "cell_type": "code",
   "execution_count": null,
   "metadata": {
    "collapsed": true
   },
   "outputs": [],
   "source": []
  }
 ],
 "metadata": {
  "kernelspec": {
   "display_name": "Python 2",
   "language": "python",
   "name": "python2"
  },
  "language_info": {
   "codemirror_mode": {
    "name": "ipython",
    "version": 2
   },
   "file_extension": ".py",
   "mimetype": "text/x-python",
   "name": "python",
   "nbconvert_exporter": "python",
   "pygments_lexer": "ipython2",
   "version": "2.7.9"
  }
 },
 "nbformat": 4,
 "nbformat_minor": 0
}
